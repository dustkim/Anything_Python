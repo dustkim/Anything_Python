{
 "cells": [
  {
   "cell_type": "code",
   "execution_count": 8,
   "metadata": {},
   "outputs": [
    {
     "name": "stdout",
     "output_type": "stream",
     "text": [
      "Defaulting to user installation because normal site-packages is not writeable\n"
     ]
    },
    {
     "name": "stderr",
     "output_type": "stream",
     "text": [
      "ERROR: Could not find a version that satisfies the requirement upgrade (from versions: none)\n",
      "\n",
      "[notice] A new release of pip is available: 24.2 -> 25.0.1\n",
      "[notice] To update, run: C:\\Python312\\python.exe -m pip install --upgrade pip\n",
      "ERROR: No matching distribution found for upgrade\n"
     ]
    }
   ],
   "source": [
    "!pip install upgrade pip"
   ]
  },
  {
   "cell_type": "code",
   "execution_count": null,
   "metadata": {},
   "outputs": [
    {
     "name": "stdout",
     "output_type": "stream",
     "text": [
      "Defaulting to user installation because normal site-packages is not writeable\n",
      "Requirement already satisfied: beautifulsoup4 in c:\\users\\rladn\\appdata\\roaming\\python\\python312\\site-packages (4.13.3)\n",
      "Requirement already satisfied: soupsieve>1.2 in c:\\users\\rladn\\appdata\\roaming\\python\\python312\\site-packages (from beautifulsoup4) (2.6)\n",
      "Requirement already satisfied: typing-extensions>=4.0.0 in c:\\users\\rladn\\appdata\\roaming\\python\\python312\\site-packages (from beautifulsoup4) (4.12.2)\n"
     ]
    },
    {
     "name": "stderr",
     "output_type": "stream",
     "text": [
      "\n",
      "[notice] A new release of pip is available: 24.2 -> 25.0.1\n",
      "[notice] To update, run: C:\\Python312\\python.exe -m pip install --upgrade pip\n"
     ]
    },
    {
     "name": "stdout",
     "output_type": "stream",
     "text": [
      "Defaulting to user installation because normal site-packages is not writeable\n",
      "Collecting faiss-cpu\n",
      "  Downloading faiss_cpu-1.10.0-cp312-cp312-win_amd64.whl.metadata (4.5 kB)\n",
      "Requirement already satisfied: numpy<3.0,>=1.25.0 in c:\\users\\rladn\\appdata\\roaming\\python\\python312\\site-packages (from faiss-cpu) (2.2.3)\n",
      "Requirement already satisfied: packaging in c:\\users\\rladn\\appdata\\roaming\\python\\python312\\site-packages (from faiss-cpu) (24.2)\n",
      "Downloading faiss_cpu-1.10.0-cp312-cp312-win_amd64.whl (13.7 MB)\n",
      "   ---------------------------------------- 0.0/13.7 MB ? eta -:--:--\n",
      "   ---------------------------------------- 0.0/13.7 MB ? eta -:--:--\n",
      "    --------------------------------------- 0.3/13.7 MB ? eta -:--:--\n",
      "   - -------------------------------------- 0.5/13.7 MB 1.3 MB/s eta 0:00:11\n",
      "   -- ------------------------------------- 0.8/13.7 MB 1.2 MB/s eta 0:00:11\n",
      "   --- ------------------------------------ 1.0/13.7 MB 1.2 MB/s eta 0:00:11\n",
      "   --- ------------------------------------ 1.3/13.7 MB 1.2 MB/s eta 0:00:10\n",
      "   ---- ----------------------------------- 1.6/13.7 MB 1.2 MB/s eta 0:00:11\n",
      "   ----- ---------------------------------- 1.8/13.7 MB 1.2 MB/s eta 0:00:11\n",
      "   ------ --------------------------------- 2.1/13.7 MB 1.2 MB/s eta 0:00:10\n",
      "   ------ --------------------------------- 2.4/13.7 MB 1.1 MB/s eta 0:00:10\n",
      "   ------- -------------------------------- 2.6/13.7 MB 1.2 MB/s eta 0:00:10\n",
      "   ------- -------------------------------- 2.6/13.7 MB 1.2 MB/s eta 0:00:10\n",
      "   -------- ------------------------------- 2.9/13.7 MB 1.1 MB/s eta 0:00:10\n",
      "   --------- ------------------------------ 3.1/13.7 MB 1.1 MB/s eta 0:00:10\n",
      "   --------- ------------------------------ 3.4/13.7 MB 1.1 MB/s eta 0:00:10\n",
      "   ---------- ----------------------------- 3.7/13.7 MB 1.1 MB/s eta 0:00:10\n",
      "   ----------- ---------------------------- 3.9/13.7 MB 1.1 MB/s eta 0:00:09\n",
      "   ------------ --------------------------- 4.2/13.7 MB 1.1 MB/s eta 0:00:09\n",
      "   ------------- -------------------------- 4.5/13.7 MB 1.1 MB/s eta 0:00:09\n",
      "   ------------- -------------------------- 4.5/13.7 MB 1.1 MB/s eta 0:00:09\n",
      "   ------------- -------------------------- 4.7/13.7 MB 1.1 MB/s eta 0:00:09\n",
      "   -------------- ------------------------- 5.0/13.7 MB 1.1 MB/s eta 0:00:08\n",
      "   --------------- ------------------------ 5.2/13.7 MB 1.1 MB/s eta 0:00:08\n",
      "   ---------------- ----------------------- 5.5/13.7 MB 1.1 MB/s eta 0:00:08\n",
      "   ---------------- ----------------------- 5.8/13.7 MB 1.1 MB/s eta 0:00:08\n",
      "   ----------------- ---------------------- 6.0/13.7 MB 1.1 MB/s eta 0:00:07\n",
      "   ------------------ --------------------- 6.3/13.7 MB 1.1 MB/s eta 0:00:07\n",
      "   ------------------- -------------------- 6.6/13.7 MB 1.1 MB/s eta 0:00:07\n",
      "   ------------------- -------------------- 6.8/13.7 MB 1.1 MB/s eta 0:00:07\n",
      "   -------------------- ------------------- 7.1/13.7 MB 1.1 MB/s eta 0:00:06\n",
      "   -------------------- ------------------- 7.1/13.7 MB 1.1 MB/s eta 0:00:06\n",
      "   --------------------- ------------------ 7.3/13.7 MB 1.1 MB/s eta 0:00:06\n",
      "   ---------------------- ----------------- 7.6/13.7 MB 1.1 MB/s eta 0:00:06\n",
      "   ---------------------- ----------------- 7.9/13.7 MB 1.1 MB/s eta 0:00:06\n",
      "   ----------------------- ---------------- 8.1/13.7 MB 1.1 MB/s eta 0:00:06\n",
      "   ------------------------ --------------- 8.4/13.7 MB 1.1 MB/s eta 0:00:05\n",
      "   ------------------------- -------------- 8.7/13.7 MB 1.1 MB/s eta 0:00:05\n",
      "   -------------------------- ------------- 8.9/13.7 MB 1.1 MB/s eta 0:00:05\n",
      "   -------------------------- ------------- 9.2/13.7 MB 1.1 MB/s eta 0:00:05\n",
      "   --------------------------- ------------ 9.4/13.7 MB 1.1 MB/s eta 0:00:04\n",
      "   ---------------------------- ----------- 9.7/13.7 MB 1.1 MB/s eta 0:00:04\n",
      "   ----------------------------- ---------- 10.0/13.7 MB 1.1 MB/s eta 0:00:04\n",
      "   ----------------------------- ---------- 10.2/13.7 MB 1.1 MB/s eta 0:00:04\n",
      "   ------------------------------ --------- 10.5/13.7 MB 1.1 MB/s eta 0:00:03\n",
      "   ------------------------------- -------- 10.7/13.7 MB 1.1 MB/s eta 0:00:03\n",
      "   -------------------------------- ------- 11.0/13.7 MB 1.1 MB/s eta 0:00:03\n",
      "   -------------------------------- ------- 11.0/13.7 MB 1.1 MB/s eta 0:00:03\n",
      "   -------------------------------- ------- 11.3/13.7 MB 1.1 MB/s eta 0:00:03\n",
      "   --------------------------------- ------ 11.5/13.7 MB 1.1 MB/s eta 0:00:02\n",
      "   ---------------------------------- ----- 11.8/13.7 MB 1.1 MB/s eta 0:00:02\n",
      "   ----------------------------------- ---- 12.1/13.7 MB 1.1 MB/s eta 0:00:02\n",
      "   ------------------------------------ --- 12.3/13.7 MB 1.1 MB/s eta 0:00:02\n",
      "   ------------------------------------ --- 12.6/13.7 MB 1.1 MB/s eta 0:00:01\n",
      "   ------------------------------------- -- 12.8/13.7 MB 1.1 MB/s eta 0:00:01\n",
      "   -------------------------------------- - 13.1/13.7 MB 1.1 MB/s eta 0:00:01\n",
      "   ---------------------------------------  13.4/13.7 MB 1.1 MB/s eta 0:00:01\n",
      "   ---------------------------------------- 13.7/13.7 MB 1.1 MB/s eta 0:00:00\n",
      "Installing collected packages: faiss-cpu\n",
      "Successfully installed faiss-cpu-1.10.0\n"
     ]
    },
    {
     "name": "stderr",
     "output_type": "stream",
     "text": [
      "\n",
      "[notice] A new release of pip is available: 24.2 -> 25.0.1\n",
      "[notice] To update, run: C:\\Python312\\python.exe -m pip install --upgrade pip\n"
     ]
    }
   ],
   "source": [
    "!pip install beautifulsoup4"
   ]
  },
  {
   "cell_type": "code",
   "execution_count": 50,
   "metadata": {},
   "outputs": [
    {
     "name": "stdout",
     "output_type": "stream",
     "text": [
      "Requirement already satisfied: python-dotenv in c:\\users\\rladn\\appdata\\local\\programs\\python\\python311\\lib\\site-packages (1.0.1)\n"
     ]
    },
    {
     "name": "stderr",
     "output_type": "stream",
     "text": [
      "\n",
      "[notice] A new release of pip is available: 24.0 -> 25.0.1\n",
      "[notice] To update, run: python.exe -m pip install --upgrade pip\n"
     ]
    },
    {
     "name": "stdout",
     "output_type": "stream",
     "text": [
      "Requirement already satisfied: langchain in c:\\users\\rladn\\appdata\\local\\programs\\python\\python311\\lib\\site-packages (0.3.20)\n",
      "Requirement already satisfied: langchain-core<1.0.0,>=0.3.41 in c:\\users\\rladn\\appdata\\local\\programs\\python\\python311\\lib\\site-packages (from langchain) (0.3.45)\n",
      "Requirement already satisfied: langchain-text-splitters<1.0.0,>=0.3.6 in c:\\users\\rladn\\appdata\\local\\programs\\python\\python311\\lib\\site-packages (from langchain) (0.3.6)\n",
      "Requirement already satisfied: langsmith<0.4,>=0.1.17 in c:\\users\\rladn\\appdata\\local\\programs\\python\\python311\\lib\\site-packages (from langchain) (0.3.13)\n",
      "Requirement already satisfied: pydantic<3.0.0,>=2.7.4 in c:\\users\\rladn\\appdata\\local\\programs\\python\\python311\\lib\\site-packages (from langchain) (2.10.6)\n",
      "Requirement already satisfied: SQLAlchemy<3,>=1.4 in c:\\users\\rladn\\appdata\\local\\programs\\python\\python311\\lib\\site-packages (from langchain) (2.0.39)\n",
      "Requirement already satisfied: requests<3,>=2 in c:\\users\\rladn\\appdata\\local\\programs\\python\\python311\\lib\\site-packages (from langchain) (2.32.3)\n",
      "Requirement already satisfied: PyYAML>=5.3 in c:\\users\\rladn\\appdata\\local\\programs\\python\\python311\\lib\\site-packages (from langchain) (6.0.2)\n",
      "Requirement already satisfied: tenacity!=8.4.0,<10.0.0,>=8.1.0 in c:\\users\\rladn\\appdata\\local\\programs\\python\\python311\\lib\\site-packages (from langchain-core<1.0.0,>=0.3.41->langchain) (9.0.0)\n",
      "Requirement already satisfied: jsonpatch<2.0,>=1.33 in c:\\users\\rladn\\appdata\\local\\programs\\python\\python311\\lib\\site-packages (from langchain-core<1.0.0,>=0.3.41->langchain) (1.33)\n",
      "Requirement already satisfied: packaging<25,>=23.2 in c:\\users\\rladn\\appdata\\roaming\\python\\python311\\site-packages (from langchain-core<1.0.0,>=0.3.41->langchain) (24.2)\n",
      "Requirement already satisfied: typing-extensions>=4.7 in c:\\users\\rladn\\appdata\\roaming\\python\\python311\\site-packages (from langchain-core<1.0.0,>=0.3.41->langchain) (4.12.2)\n",
      "Requirement already satisfied: httpx<1,>=0.23.0 in c:\\users\\rladn\\appdata\\local\\programs\\python\\python311\\lib\\site-packages (from langsmith<0.4,>=0.1.17->langchain) (0.28.1)\n",
      "Requirement already satisfied: orjson<4.0.0,>=3.9.14 in c:\\users\\rladn\\appdata\\local\\programs\\python\\python311\\lib\\site-packages (from langsmith<0.4,>=0.1.17->langchain) (3.10.15)\n",
      "Requirement already satisfied: requests-toolbelt<2.0.0,>=1.0.0 in c:\\users\\rladn\\appdata\\local\\programs\\python\\python311\\lib\\site-packages (from langsmith<0.4,>=0.1.17->langchain) (1.0.0)\n",
      "Requirement already satisfied: zstandard<0.24.0,>=0.23.0 in c:\\users\\rladn\\appdata\\local\\programs\\python\\python311\\lib\\site-packages (from langsmith<0.4,>=0.1.17->langchain) (0.23.0)\n",
      "Requirement already satisfied: annotated-types>=0.6.0 in c:\\users\\rladn\\appdata\\local\\programs\\python\\python311\\lib\\site-packages (from pydantic<3.0.0,>=2.7.4->langchain) (0.7.0)\n",
      "Requirement already satisfied: pydantic-core==2.27.2 in c:\\users\\rladn\\appdata\\local\\programs\\python\\python311\\lib\\site-packages (from pydantic<3.0.0,>=2.7.4->langchain) (2.27.2)\n",
      "Requirement already satisfied: charset-normalizer<4,>=2 in c:\\users\\rladn\\appdata\\local\\programs\\python\\python311\\lib\\site-packages (from requests<3,>=2->langchain) (3.4.1)\n",
      "Requirement already satisfied: idna<4,>=2.5 in c:\\users\\rladn\\appdata\\local\\programs\\python\\python311\\lib\\site-packages (from requests<3,>=2->langchain) (3.10)\n",
      "Requirement already satisfied: urllib3<3,>=1.21.1 in c:\\users\\rladn\\appdata\\local\\programs\\python\\python311\\lib\\site-packages (from requests<3,>=2->langchain) (2.3.0)\n",
      "Requirement already satisfied: certifi>=2017.4.17 in c:\\users\\rladn\\appdata\\local\\programs\\python\\python311\\lib\\site-packages (from requests<3,>=2->langchain) (2025.1.31)\n",
      "Requirement already satisfied: greenlet!=0.4.17 in c:\\users\\rladn\\appdata\\local\\programs\\python\\python311\\lib\\site-packages (from SQLAlchemy<3,>=1.4->langchain) (3.1.1)\n",
      "Requirement already satisfied: anyio in c:\\users\\rladn\\appdata\\local\\programs\\python\\python311\\lib\\site-packages (from httpx<1,>=0.23.0->langsmith<0.4,>=0.1.17->langchain) (4.8.0)\n",
      "Requirement already satisfied: httpcore==1.* in c:\\users\\rladn\\appdata\\local\\programs\\python\\python311\\lib\\site-packages (from httpx<1,>=0.23.0->langsmith<0.4,>=0.1.17->langchain) (1.0.7)\n",
      "Requirement already satisfied: h11<0.15,>=0.13 in c:\\users\\rladn\\appdata\\local\\programs\\python\\python311\\lib\\site-packages (from httpcore==1.*->httpx<1,>=0.23.0->langsmith<0.4,>=0.1.17->langchain) (0.14.0)\n",
      "Requirement already satisfied: jsonpointer>=1.9 in c:\\users\\rladn\\appdata\\local\\programs\\python\\python311\\lib\\site-packages (from jsonpatch<2.0,>=1.33->langchain-core<1.0.0,>=0.3.41->langchain) (3.0.0)\n",
      "Requirement already satisfied: sniffio>=1.1 in c:\\users\\rladn\\appdata\\local\\programs\\python\\python311\\lib\\site-packages (from anyio->httpx<1,>=0.23.0->langsmith<0.4,>=0.1.17->langchain) (1.3.1)\n"
     ]
    },
    {
     "name": "stderr",
     "output_type": "stream",
     "text": [
      "\n",
      "[notice] A new release of pip is available: 24.0 -> 25.0.1\n",
      "[notice] To update, run: python.exe -m pip install --upgrade pip\n"
     ]
    },
    {
     "name": "stdout",
     "output_type": "stream",
     "text": [
      "Requirement already satisfied: langchain-community in c:\\users\\rladn\\appdata\\local\\programs\\python\\python311\\lib\\site-packages (0.3.19)\n",
      "Requirement already satisfied: langchain-core<1.0.0,>=0.3.41 in c:\\users\\rladn\\appdata\\local\\programs\\python\\python311\\lib\\site-packages (from langchain-community) (0.3.45)\n",
      "Requirement already satisfied: langchain<1.0.0,>=0.3.20 in c:\\users\\rladn\\appdata\\local\\programs\\python\\python311\\lib\\site-packages (from langchain-community) (0.3.20)\n",
      "Requirement already satisfied: SQLAlchemy<3,>=1.4 in c:\\users\\rladn\\appdata\\local\\programs\\python\\python311\\lib\\site-packages (from langchain-community) (2.0.39)\n",
      "Requirement already satisfied: requests<3,>=2 in c:\\users\\rladn\\appdata\\local\\programs\\python\\python311\\lib\\site-packages (from langchain-community) (2.32.3)\n",
      "Requirement already satisfied: PyYAML>=5.3 in c:\\users\\rladn\\appdata\\local\\programs\\python\\python311\\lib\\site-packages (from langchain-community) (6.0.2)\n",
      "Requirement already satisfied: aiohttp<4.0.0,>=3.8.3 in c:\\users\\rladn\\appdata\\local\\programs\\python\\python311\\lib\\site-packages (from langchain-community) (3.11.13)\n",
      "Requirement already satisfied: tenacity!=8.4.0,<10,>=8.1.0 in c:\\users\\rladn\\appdata\\local\\programs\\python\\python311\\lib\\site-packages (from langchain-community) (9.0.0)\n",
      "Requirement already satisfied: dataclasses-json<0.7,>=0.5.7 in c:\\users\\rladn\\appdata\\local\\programs\\python\\python311\\lib\\site-packages (from langchain-community) (0.6.7)\n",
      "Requirement already satisfied: pydantic-settings<3.0.0,>=2.4.0 in c:\\users\\rladn\\appdata\\local\\programs\\python\\python311\\lib\\site-packages (from langchain-community) (2.8.1)\n",
      "Requirement already satisfied: langsmith<0.4,>=0.1.125 in c:\\users\\rladn\\appdata\\local\\programs\\python\\python311\\lib\\site-packages (from langchain-community) (0.3.13)\n",
      "Requirement already satisfied: httpx-sse<1.0.0,>=0.4.0 in c:\\users\\rladn\\appdata\\local\\programs\\python\\python311\\lib\\site-packages (from langchain-community) (0.4.0)\n",
      "Requirement already satisfied: numpy<3,>=1.26.2 in c:\\users\\rladn\\appdata\\local\\programs\\python\\python311\\lib\\site-packages (from langchain-community) (2.2.3)\n",
      "Requirement already satisfied: aiohappyeyeballs>=2.3.0 in c:\\users\\rladn\\appdata\\local\\programs\\python\\python311\\lib\\site-packages (from aiohttp<4.0.0,>=3.8.3->langchain-community) (2.6.1)\n",
      "Requirement already satisfied: aiosignal>=1.1.2 in c:\\users\\rladn\\appdata\\local\\programs\\python\\python311\\lib\\site-packages (from aiohttp<4.0.0,>=3.8.3->langchain-community) (1.3.2)\n",
      "Requirement already satisfied: attrs>=17.3.0 in c:\\users\\rladn\\appdata\\local\\programs\\python\\python311\\lib\\site-packages (from aiohttp<4.0.0,>=3.8.3->langchain-community) (25.3.0)\n",
      "Requirement already satisfied: frozenlist>=1.1.1 in c:\\users\\rladn\\appdata\\local\\programs\\python\\python311\\lib\\site-packages (from aiohttp<4.0.0,>=3.8.3->langchain-community) (1.5.0)\n",
      "Requirement already satisfied: multidict<7.0,>=4.5 in c:\\users\\rladn\\appdata\\local\\programs\\python\\python311\\lib\\site-packages (from aiohttp<4.0.0,>=3.8.3->langchain-community) (6.1.0)\n",
      "Requirement already satisfied: propcache>=0.2.0 in c:\\users\\rladn\\appdata\\local\\programs\\python\\python311\\lib\\site-packages (from aiohttp<4.0.0,>=3.8.3->langchain-community) (0.3.0)\n",
      "Requirement already satisfied: yarl<2.0,>=1.17.0 in c:\\users\\rladn\\appdata\\local\\programs\\python\\python311\\lib\\site-packages (from aiohttp<4.0.0,>=3.8.3->langchain-community) (1.18.3)\n",
      "Requirement already satisfied: marshmallow<4.0.0,>=3.18.0 in c:\\users\\rladn\\appdata\\local\\programs\\python\\python311\\lib\\site-packages (from dataclasses-json<0.7,>=0.5.7->langchain-community) (3.26.1)\n",
      "Requirement already satisfied: typing-inspect<1,>=0.4.0 in c:\\users\\rladn\\appdata\\local\\programs\\python\\python311\\lib\\site-packages (from dataclasses-json<0.7,>=0.5.7->langchain-community) (0.9.0)\n",
      "Requirement already satisfied: langchain-text-splitters<1.0.0,>=0.3.6 in c:\\users\\rladn\\appdata\\local\\programs\\python\\python311\\lib\\site-packages (from langchain<1.0.0,>=0.3.20->langchain-community) (0.3.6)\n",
      "Requirement already satisfied: pydantic<3.0.0,>=2.7.4 in c:\\users\\rladn\\appdata\\local\\programs\\python\\python311\\lib\\site-packages (from langchain<1.0.0,>=0.3.20->langchain-community) (2.10.6)\n",
      "Requirement already satisfied: jsonpatch<2.0,>=1.33 in c:\\users\\rladn\\appdata\\local\\programs\\python\\python311\\lib\\site-packages (from langchain-core<1.0.0,>=0.3.41->langchain-community) (1.33)\n",
      "Requirement already satisfied: packaging<25,>=23.2 in c:\\users\\rladn\\appdata\\roaming\\python\\python311\\site-packages (from langchain-core<1.0.0,>=0.3.41->langchain-community) (24.2)\n",
      "Requirement already satisfied: typing-extensions>=4.7 in c:\\users\\rladn\\appdata\\roaming\\python\\python311\\site-packages (from langchain-core<1.0.0,>=0.3.41->langchain-community) (4.12.2)\n",
      "Requirement already satisfied: httpx<1,>=0.23.0 in c:\\users\\rladn\\appdata\\local\\programs\\python\\python311\\lib\\site-packages (from langsmith<0.4,>=0.1.125->langchain-community) (0.28.1)\n",
      "Requirement already satisfied: orjson<4.0.0,>=3.9.14 in c:\\users\\rladn\\appdata\\local\\programs\\python\\python311\\lib\\site-packages (from langsmith<0.4,>=0.1.125->langchain-community) (3.10.15)\n",
      "Requirement already satisfied: requests-toolbelt<2.0.0,>=1.0.0 in c:\\users\\rladn\\appdata\\local\\programs\\python\\python311\\lib\\site-packages (from langsmith<0.4,>=0.1.125->langchain-community) (1.0.0)\n",
      "Requirement already satisfied: zstandard<0.24.0,>=0.23.0 in c:\\users\\rladn\\appdata\\local\\programs\\python\\python311\\lib\\site-packages (from langsmith<0.4,>=0.1.125->langchain-community) (0.23.0)\n",
      "Requirement already satisfied: python-dotenv>=0.21.0 in c:\\users\\rladn\\appdata\\local\\programs\\python\\python311\\lib\\site-packages (from pydantic-settings<3.0.0,>=2.4.0->langchain-community) (1.0.1)\n",
      "Requirement already satisfied: charset-normalizer<4,>=2 in c:\\users\\rladn\\appdata\\local\\programs\\python\\python311\\lib\\site-packages (from requests<3,>=2->langchain-community) (3.4.1)\n",
      "Requirement already satisfied: idna<4,>=2.5 in c:\\users\\rladn\\appdata\\local\\programs\\python\\python311\\lib\\site-packages (from requests<3,>=2->langchain-community) (3.10)\n",
      "Requirement already satisfied: urllib3<3,>=1.21.1 in c:\\users\\rladn\\appdata\\local\\programs\\python\\python311\\lib\\site-packages (from requests<3,>=2->langchain-community) (2.3.0)\n",
      "Requirement already satisfied: certifi>=2017.4.17 in c:\\users\\rladn\\appdata\\local\\programs\\python\\python311\\lib\\site-packages (from requests<3,>=2->langchain-community) (2025.1.31)\n",
      "Requirement already satisfied: greenlet!=0.4.17 in c:\\users\\rladn\\appdata\\local\\programs\\python\\python311\\lib\\site-packages (from SQLAlchemy<3,>=1.4->langchain-community) (3.1.1)\n",
      "Requirement already satisfied: anyio in c:\\users\\rladn\\appdata\\local\\programs\\python\\python311\\lib\\site-packages (from httpx<1,>=0.23.0->langsmith<0.4,>=0.1.125->langchain-community) (4.8.0)\n",
      "Requirement already satisfied: httpcore==1.* in c:\\users\\rladn\\appdata\\local\\programs\\python\\python311\\lib\\site-packages (from httpx<1,>=0.23.0->langsmith<0.4,>=0.1.125->langchain-community) (1.0.7)\n",
      "Requirement already satisfied: h11<0.15,>=0.13 in c:\\users\\rladn\\appdata\\local\\programs\\python\\python311\\lib\\site-packages (from httpcore==1.*->httpx<1,>=0.23.0->langsmith<0.4,>=0.1.125->langchain-community) (0.14.0)\n",
      "Requirement already satisfied: jsonpointer>=1.9 in c:\\users\\rladn\\appdata\\local\\programs\\python\\python311\\lib\\site-packages (from jsonpatch<2.0,>=1.33->langchain-core<1.0.0,>=0.3.41->langchain-community) (3.0.0)\n",
      "Requirement already satisfied: annotated-types>=0.6.0 in c:\\users\\rladn\\appdata\\local\\programs\\python\\python311\\lib\\site-packages (from pydantic<3.0.0,>=2.7.4->langchain<1.0.0,>=0.3.20->langchain-community) (0.7.0)\n",
      "Requirement already satisfied: pydantic-core==2.27.2 in c:\\users\\rladn\\appdata\\local\\programs\\python\\python311\\lib\\site-packages (from pydantic<3.0.0,>=2.7.4->langchain<1.0.0,>=0.3.20->langchain-community) (2.27.2)\n",
      "Requirement already satisfied: mypy-extensions>=0.3.0 in c:\\users\\rladn\\appdata\\local\\programs\\python\\python311\\lib\\site-packages (from typing-inspect<1,>=0.4.0->dataclasses-json<0.7,>=0.5.7->langchain-community) (1.0.0)\n",
      "Requirement already satisfied: sniffio>=1.1 in c:\\users\\rladn\\appdata\\local\\programs\\python\\python311\\lib\\site-packages (from anyio->httpx<1,>=0.23.0->langsmith<0.4,>=0.1.125->langchain-community) (1.3.1)\n"
     ]
    },
    {
     "name": "stderr",
     "output_type": "stream",
     "text": [
      "\n",
      "[notice] A new release of pip is available: 24.0 -> 25.0.1\n",
      "[notice] To update, run: python.exe -m pip install --upgrade pip\n"
     ]
    },
    {
     "name": "stdout",
     "output_type": "stream",
     "text": [
      "Requirement already satisfied: langchain-openai in c:\\users\\rladn\\appdata\\local\\programs\\python\\python311\\lib\\site-packages (0.3.8)\n",
      "Requirement already satisfied: langchain-core<1.0.0,>=0.3.42 in c:\\users\\rladn\\appdata\\local\\programs\\python\\python311\\lib\\site-packages (from langchain-openai) (0.3.45)\n",
      "Requirement already satisfied: openai<2.0.0,>=1.58.1 in c:\\users\\rladn\\appdata\\local\\programs\\python\\python311\\lib\\site-packages (from langchain-openai) (1.66.3)\n",
      "Requirement already satisfied: tiktoken<1,>=0.7 in c:\\users\\rladn\\appdata\\local\\programs\\python\\python311\\lib\\site-packages (from langchain-openai) (0.9.0)\n",
      "Requirement already satisfied: langsmith<0.4,>=0.1.125 in c:\\users\\rladn\\appdata\\local\\programs\\python\\python311\\lib\\site-packages (from langchain-core<1.0.0,>=0.3.42->langchain-openai) (0.3.13)\n",
      "Requirement already satisfied: tenacity!=8.4.0,<10.0.0,>=8.1.0 in c:\\users\\rladn\\appdata\\local\\programs\\python\\python311\\lib\\site-packages (from langchain-core<1.0.0,>=0.3.42->langchain-openai) (9.0.0)\n",
      "Requirement already satisfied: jsonpatch<2.0,>=1.33 in c:\\users\\rladn\\appdata\\local\\programs\\python\\python311\\lib\\site-packages (from langchain-core<1.0.0,>=0.3.42->langchain-openai) (1.33)\n",
      "Requirement already satisfied: PyYAML>=5.3 in c:\\users\\rladn\\appdata\\local\\programs\\python\\python311\\lib\\site-packages (from langchain-core<1.0.0,>=0.3.42->langchain-openai) (6.0.2)\n",
      "Requirement already satisfied: packaging<25,>=23.2 in c:\\users\\rladn\\appdata\\roaming\\python\\python311\\site-packages (from langchain-core<1.0.0,>=0.3.42->langchain-openai) (24.2)\n",
      "Requirement already satisfied: typing-extensions>=4.7 in c:\\users\\rladn\\appdata\\roaming\\python\\python311\\site-packages (from langchain-core<1.0.0,>=0.3.42->langchain-openai) (4.12.2)\n",
      "Requirement already satisfied: pydantic<3.0.0,>=2.5.2 in c:\\users\\rladn\\appdata\\local\\programs\\python\\python311\\lib\\site-packages (from langchain-core<1.0.0,>=0.3.42->langchain-openai) (2.10.6)\n",
      "Requirement already satisfied: anyio<5,>=3.5.0 in c:\\users\\rladn\\appdata\\local\\programs\\python\\python311\\lib\\site-packages (from openai<2.0.0,>=1.58.1->langchain-openai) (4.8.0)\n",
      "Requirement already satisfied: distro<2,>=1.7.0 in c:\\users\\rladn\\appdata\\local\\programs\\python\\python311\\lib\\site-packages (from openai<2.0.0,>=1.58.1->langchain-openai) (1.9.0)\n",
      "Requirement already satisfied: httpx<1,>=0.23.0 in c:\\users\\rladn\\appdata\\local\\programs\\python\\python311\\lib\\site-packages (from openai<2.0.0,>=1.58.1->langchain-openai) (0.28.1)\n",
      "Requirement already satisfied: jiter<1,>=0.4.0 in c:\\users\\rladn\\appdata\\local\\programs\\python\\python311\\lib\\site-packages (from openai<2.0.0,>=1.58.1->langchain-openai) (0.9.0)\n",
      "Requirement already satisfied: sniffio in c:\\users\\rladn\\appdata\\local\\programs\\python\\python311\\lib\\site-packages (from openai<2.0.0,>=1.58.1->langchain-openai) (1.3.1)\n",
      "Requirement already satisfied: tqdm>4 in c:\\users\\rladn\\appdata\\local\\programs\\python\\python311\\lib\\site-packages (from openai<2.0.0,>=1.58.1->langchain-openai) (4.67.1)\n",
      "Requirement already satisfied: regex>=2022.1.18 in c:\\users\\rladn\\appdata\\local\\programs\\python\\python311\\lib\\site-packages (from tiktoken<1,>=0.7->langchain-openai) (2024.11.6)\n",
      "Requirement already satisfied: requests>=2.26.0 in c:\\users\\rladn\\appdata\\local\\programs\\python\\python311\\lib\\site-packages (from tiktoken<1,>=0.7->langchain-openai) (2.32.3)\n",
      "Requirement already satisfied: idna>=2.8 in c:\\users\\rladn\\appdata\\local\\programs\\python\\python311\\lib\\site-packages (from anyio<5,>=3.5.0->openai<2.0.0,>=1.58.1->langchain-openai) (3.10)\n",
      "Requirement already satisfied: certifi in c:\\users\\rladn\\appdata\\local\\programs\\python\\python311\\lib\\site-packages (from httpx<1,>=0.23.0->openai<2.0.0,>=1.58.1->langchain-openai) (2025.1.31)\n",
      "Requirement already satisfied: httpcore==1.* in c:\\users\\rladn\\appdata\\local\\programs\\python\\python311\\lib\\site-packages (from httpx<1,>=0.23.0->openai<2.0.0,>=1.58.1->langchain-openai) (1.0.7)\n",
      "Requirement already satisfied: h11<0.15,>=0.13 in c:\\users\\rladn\\appdata\\local\\programs\\python\\python311\\lib\\site-packages (from httpcore==1.*->httpx<1,>=0.23.0->openai<2.0.0,>=1.58.1->langchain-openai) (0.14.0)\n",
      "Requirement already satisfied: jsonpointer>=1.9 in c:\\users\\rladn\\appdata\\local\\programs\\python\\python311\\lib\\site-packages (from jsonpatch<2.0,>=1.33->langchain-core<1.0.0,>=0.3.42->langchain-openai) (3.0.0)\n",
      "Requirement already satisfied: orjson<4.0.0,>=3.9.14 in c:\\users\\rladn\\appdata\\local\\programs\\python\\python311\\lib\\site-packages (from langsmith<0.4,>=0.1.125->langchain-core<1.0.0,>=0.3.42->langchain-openai) (3.10.15)\n",
      "Requirement already satisfied: requests-toolbelt<2.0.0,>=1.0.0 in c:\\users\\rladn\\appdata\\local\\programs\\python\\python311\\lib\\site-packages (from langsmith<0.4,>=0.1.125->langchain-core<1.0.0,>=0.3.42->langchain-openai) (1.0.0)\n",
      "Requirement already satisfied: zstandard<0.24.0,>=0.23.0 in c:\\users\\rladn\\appdata\\local\\programs\\python\\python311\\lib\\site-packages (from langsmith<0.4,>=0.1.125->langchain-core<1.0.0,>=0.3.42->langchain-openai) (0.23.0)\n",
      "Requirement already satisfied: annotated-types>=0.6.0 in c:\\users\\rladn\\appdata\\local\\programs\\python\\python311\\lib\\site-packages (from pydantic<3.0.0,>=2.5.2->langchain-core<1.0.0,>=0.3.42->langchain-openai) (0.7.0)\n",
      "Requirement already satisfied: pydantic-core==2.27.2 in c:\\users\\rladn\\appdata\\local\\programs\\python\\python311\\lib\\site-packages (from pydantic<3.0.0,>=2.5.2->langchain-core<1.0.0,>=0.3.42->langchain-openai) (2.27.2)\n",
      "Requirement already satisfied: charset-normalizer<4,>=2 in c:\\users\\rladn\\appdata\\local\\programs\\python\\python311\\lib\\site-packages (from requests>=2.26.0->tiktoken<1,>=0.7->langchain-openai) (3.4.1)\n",
      "Requirement already satisfied: urllib3<3,>=1.21.1 in c:\\users\\rladn\\appdata\\local\\programs\\python\\python311\\lib\\site-packages (from requests>=2.26.0->tiktoken<1,>=0.7->langchain-openai) (2.3.0)\n",
      "Requirement already satisfied: colorama in c:\\users\\rladn\\appdata\\roaming\\python\\python311\\site-packages (from tqdm>4->openai<2.0.0,>=1.58.1->langchain-openai) (0.4.6)\n"
     ]
    },
    {
     "name": "stderr",
     "output_type": "stream",
     "text": [
      "\n",
      "[notice] A new release of pip is available: 24.0 -> 25.0.1\n",
      "[notice] To update, run: python.exe -m pip install --upgrade pip\n"
     ]
    },
    {
     "name": "stdout",
     "output_type": "stream",
     "text": [
      "Collecting faiss-cpu\n",
      "  Downloading faiss_cpu-1.10.0-cp311-cp311-win_amd64.whl.metadata (4.5 kB)\n",
      "Requirement already satisfied: numpy<3.0,>=1.25.0 in c:\\users\\rladn\\appdata\\local\\programs\\python\\python311\\lib\\site-packages (from faiss-cpu) (2.2.3)\n",
      "Requirement already satisfied: packaging in c:\\users\\rladn\\appdata\\roaming\\python\\python311\\site-packages (from faiss-cpu) (24.2)\n",
      "Downloading faiss_cpu-1.10.0-cp311-cp311-win_amd64.whl (13.7 MB)\n",
      "   ---------------------------------------- 0.0/13.7 MB ? eta -:--:--\n",
      "   ---------------------------------------- 0.0/13.7 MB ? eta -:--:--\n",
      "   ---------------------------------------- 0.0/13.7 MB 640.0 kB/s eta 0:00:22\n",
      "   ---------------------------------------- 0.1/13.7 MB 1.1 MB/s eta 0:00:13\n",
      "   ---------------------------------------- 0.2/13.7 MB 1.1 MB/s eta 0:00:12\n",
      "    --------------------------------------- 0.2/13.7 MB 1.1 MB/s eta 0:00:12\n",
      "    --------------------------------------- 0.3/13.7 MB 1.2 MB/s eta 0:00:12\n",
      "    --------------------------------------- 0.3/13.7 MB 1.2 MB/s eta 0:00:12\n",
      "   - -------------------------------------- 0.4/13.7 MB 1.2 MB/s eta 0:00:12\n",
      "   - -------------------------------------- 0.4/13.7 MB 1.1 MB/s eta 0:00:12\n",
      "   - -------------------------------------- 0.5/13.7 MB 1.1 MB/s eta 0:00:12\n",
      "   - -------------------------------------- 0.5/13.7 MB 1.1 MB/s eta 0:00:12\n",
      "   - -------------------------------------- 0.6/13.7 MB 1.1 MB/s eta 0:00:12\n",
      "   - -------------------------------------- 0.6/13.7 MB 1.1 MB/s eta 0:00:12\n",
      "   - -------------------------------------- 0.7/13.7 MB 1.1 MB/s eta 0:00:12\n",
      "   -- ------------------------------------- 0.7/13.7 MB 1.1 MB/s eta 0:00:12\n",
      "   -- ------------------------------------- 0.8/13.7 MB 1.2 MB/s eta 0:00:11\n",
      "   -- ------------------------------------- 0.8/13.7 MB 1.2 MB/s eta 0:00:12\n",
      "   -- ------------------------------------- 0.9/13.7 MB 1.1 MB/s eta 0:00:12\n",
      "   -- ------------------------------------- 1.0/13.7 MB 1.2 MB/s eta 0:00:11\n",
      "   -- ------------------------------------- 1.0/13.7 MB 1.2 MB/s eta 0:00:11\n",
      "   --- ------------------------------------ 1.1/13.7 MB 1.2 MB/s eta 0:00:11\n",
      "   --- ------------------------------------ 1.1/13.7 MB 1.2 MB/s eta 0:00:11\n",
      "   --- ------------------------------------ 1.2/13.7 MB 1.2 MB/s eta 0:00:11\n",
      "   --- ------------------------------------ 1.2/13.7 MB 1.2 MB/s eta 0:00:11\n",
      "   --- ------------------------------------ 1.3/13.7 MB 1.2 MB/s eta 0:00:11\n",
      "   --- ------------------------------------ 1.3/13.7 MB 1.1 MB/s eta 0:00:11\n",
      "   ---- ----------------------------------- 1.4/13.7 MB 1.1 MB/s eta 0:00:11\n",
      "   ---- ----------------------------------- 1.4/13.7 MB 1.1 MB/s eta 0:00:11\n",
      "   ---- ----------------------------------- 1.5/13.7 MB 1.1 MB/s eta 0:00:11\n",
      "   ---- ----------------------------------- 1.5/13.7 MB 1.1 MB/s eta 0:00:11\n",
      "   ---- ----------------------------------- 1.6/13.7 MB 1.1 MB/s eta 0:00:11\n",
      "   ---- ----------------------------------- 1.6/13.7 MB 1.1 MB/s eta 0:00:11\n",
      "   ---- ----------------------------------- 1.7/13.7 MB 1.2 MB/s eta 0:00:11\n",
      "   ----- ---------------------------------- 1.7/13.7 MB 1.1 MB/s eta 0:00:11\n",
      "   ----- ---------------------------------- 1.8/13.7 MB 1.2 MB/s eta 0:00:11\n",
      "   ----- ---------------------------------- 1.8/13.7 MB 1.1 MB/s eta 0:00:11\n",
      "   ----- ---------------------------------- 1.9/13.7 MB 1.2 MB/s eta 0:00:11\n",
      "   ----- ---------------------------------- 2.0/13.7 MB 1.2 MB/s eta 0:00:11\n",
      "   ----- ---------------------------------- 2.0/13.7 MB 1.2 MB/s eta 0:00:11\n",
      "   ----- ---------------------------------- 2.0/13.7 MB 1.1 MB/s eta 0:00:11\n",
      "   ------ --------------------------------- 2.1/13.7 MB 1.1 MB/s eta 0:00:11\n",
      "   ------ --------------------------------- 2.1/13.7 MB 1.1 MB/s eta 0:00:11\n",
      "   ------ --------------------------------- 2.2/13.7 MB 1.1 MB/s eta 0:00:11\n",
      "   ------ --------------------------------- 2.2/13.7 MB 1.1 MB/s eta 0:00:11\n",
      "   ------ --------------------------------- 2.3/13.7 MB 1.1 MB/s eta 0:00:11\n",
      "   ------ --------------------------------- 2.3/13.7 MB 1.1 MB/s eta 0:00:11\n",
      "   ------ --------------------------------- 2.3/13.7 MB 1.1 MB/s eta 0:00:11\n",
      "   ------- -------------------------------- 2.4/13.7 MB 1.1 MB/s eta 0:00:11\n",
      "   ------- -------------------------------- 2.4/13.7 MB 1.1 MB/s eta 0:00:11\n",
      "   ------- -------------------------------- 2.5/13.7 MB 1.1 MB/s eta 0:00:11\n",
      "   ------- -------------------------------- 2.5/13.7 MB 1.1 MB/s eta 0:00:11\n",
      "   ------- -------------------------------- 2.6/13.7 MB 1.1 MB/s eta 0:00:11\n",
      "   ------- -------------------------------- 2.7/13.7 MB 1.1 MB/s eta 0:00:10\n",
      "   ------- -------------------------------- 2.7/13.7 MB 1.1 MB/s eta 0:00:11\n",
      "   -------- ------------------------------- 2.7/13.7 MB 1.1 MB/s eta 0:00:10\n",
      "   -------- ------------------------------- 2.8/13.7 MB 1.1 MB/s eta 0:00:10\n",
      "   -------- ------------------------------- 2.8/13.7 MB 1.1 MB/s eta 0:00:10\n",
      "   -------- ------------------------------- 2.9/13.7 MB 1.1 MB/s eta 0:00:10\n",
      "   -------- ------------------------------- 2.9/13.7 MB 1.1 MB/s eta 0:00:10\n",
      "   -------- ------------------------------- 3.0/13.7 MB 1.1 MB/s eta 0:00:10\n",
      "   -------- ------------------------------- 3.0/13.7 MB 1.1 MB/s eta 0:00:10\n",
      "   -------- ------------------------------- 3.1/13.7 MB 1.1 MB/s eta 0:00:10\n",
      "   --------- ------------------------------ 3.1/13.7 MB 1.1 MB/s eta 0:00:10\n",
      "   --------- ------------------------------ 3.2/13.7 MB 1.1 MB/s eta 0:00:10\n",
      "   --------- ------------------------------ 3.2/13.7 MB 1.1 MB/s eta 0:00:10\n",
      "   --------- ------------------------------ 3.3/13.7 MB 1.1 MB/s eta 0:00:10\n",
      "   --------- ------------------------------ 3.3/13.7 MB 1.1 MB/s eta 0:00:10\n",
      "   --------- ------------------------------ 3.4/13.7 MB 1.1 MB/s eta 0:00:10\n",
      "   --------- ------------------------------ 3.4/13.7 MB 1.1 MB/s eta 0:00:10\n",
      "   --------- ------------------------------ 3.4/13.7 MB 1.1 MB/s eta 0:00:10\n",
      "   ---------- ----------------------------- 3.5/13.7 MB 1.1 MB/s eta 0:00:10\n",
      "   ---------- ----------------------------- 3.5/13.7 MB 1.1 MB/s eta 0:00:10\n",
      "   ---------- ----------------------------- 3.5/13.7 MB 1.1 MB/s eta 0:00:10\n",
      "   ---------- ----------------------------- 3.6/13.7 MB 1.1 MB/s eta 0:00:10\n",
      "   ---------- ----------------------------- 3.6/13.7 MB 1.1 MB/s eta 0:00:10\n",
      "   ---------- ----------------------------- 3.7/13.7 MB 1.1 MB/s eta 0:00:10\n",
      "   ---------- ----------------------------- 3.7/13.7 MB 1.1 MB/s eta 0:00:10\n",
      "   ----------- ---------------------------- 3.8/13.7 MB 1.1 MB/s eta 0:00:10\n",
      "   ----------- ---------------------------- 3.9/13.7 MB 1.1 MB/s eta 0:00:10\n",
      "   ----------- ---------------------------- 3.9/13.7 MB 1.1 MB/s eta 0:00:10\n",
      "   ----------- ---------------------------- 3.9/13.7 MB 1.1 MB/s eta 0:00:10\n",
      "   ----------- ---------------------------- 4.0/13.7 MB 1.1 MB/s eta 0:00:10\n",
      "   ----------- ---------------------------- 4.0/13.7 MB 1.1 MB/s eta 0:00:09\n",
      "   ----------- ---------------------------- 4.1/13.7 MB 1.1 MB/s eta 0:00:09\n",
      "   ------------ --------------------------- 4.1/13.7 MB 1.1 MB/s eta 0:00:09\n",
      "   ------------ --------------------------- 4.2/13.7 MB 1.1 MB/s eta 0:00:09\n",
      "   ------------ --------------------------- 4.2/13.7 MB 1.1 MB/s eta 0:00:09\n",
      "   ------------ --------------------------- 4.3/13.7 MB 1.1 MB/s eta 0:00:09\n",
      "   ------------ --------------------------- 4.3/13.7 MB 1.1 MB/s eta 0:00:09\n",
      "   ------------ --------------------------- 4.4/13.7 MB 1.1 MB/s eta 0:00:09\n",
      "   ------------ --------------------------- 4.4/13.7 MB 1.1 MB/s eta 0:00:09\n",
      "   ------------- -------------------------- 4.5/13.7 MB 1.1 MB/s eta 0:00:09\n",
      "   ------------- -------------------------- 4.5/13.7 MB 1.1 MB/s eta 0:00:09\n",
      "   ------------- -------------------------- 4.6/13.7 MB 1.1 MB/s eta 0:00:09\n",
      "   ------------- -------------------------- 4.6/13.7 MB 1.1 MB/s eta 0:00:09\n",
      "   ------------- -------------------------- 4.7/13.7 MB 1.1 MB/s eta 0:00:09\n",
      "   ------------- -------------------------- 4.7/13.7 MB 1.1 MB/s eta 0:00:09\n",
      "   -------------- ------------------------- 4.8/13.7 MB 1.1 MB/s eta 0:00:09\n",
      "   -------------- ------------------------- 4.9/13.7 MB 1.1 MB/s eta 0:00:09\n",
      "   -------------- ------------------------- 4.9/13.7 MB 1.1 MB/s eta 0:00:09\n",
      "   -------------- ------------------------- 5.0/13.7 MB 1.1 MB/s eta 0:00:09\n",
      "   -------------- ------------------------- 5.0/13.7 MB 1.1 MB/s eta 0:00:09\n",
      "   -------------- ------------------------- 5.1/13.7 MB 1.1 MB/s eta 0:00:09\n",
      "   -------------- ------------------------- 5.1/13.7 MB 1.1 MB/s eta 0:00:08\n",
      "   --------------- ------------------------ 5.2/13.7 MB 1.1 MB/s eta 0:00:08\n",
      "   --------------- ------------------------ 5.2/13.7 MB 1.1 MB/s eta 0:00:08\n",
      "   --------------- ------------------------ 5.3/13.7 MB 1.1 MB/s eta 0:00:08\n",
      "   --------------- ------------------------ 5.3/13.7 MB 1.1 MB/s eta 0:00:08\n",
      "   --------------- ------------------------ 5.4/13.7 MB 1.1 MB/s eta 0:00:08\n",
      "   --------------- ------------------------ 5.4/13.7 MB 1.1 MB/s eta 0:00:08\n",
      "   ---------------- ----------------------- 5.5/13.7 MB 1.1 MB/s eta 0:00:08\n",
      "   ---------------- ----------------------- 5.5/13.7 MB 1.1 MB/s eta 0:00:08\n",
      "   ---------------- ----------------------- 5.6/13.7 MB 1.1 MB/s eta 0:00:08\n",
      "   ---------------- ----------------------- 5.6/13.7 MB 1.1 MB/s eta 0:00:08\n",
      "   ---------------- ----------------------- 5.7/13.7 MB 1.1 MB/s eta 0:00:08\n",
      "   ---------------- ----------------------- 5.7/13.7 MB 1.1 MB/s eta 0:00:08\n",
      "   ---------------- ----------------------- 5.8/13.7 MB 1.1 MB/s eta 0:00:08\n",
      "   ----------------- ---------------------- 5.8/13.7 MB 1.1 MB/s eta 0:00:08\n",
      "   ----------------- ---------------------- 5.9/13.7 MB 1.1 MB/s eta 0:00:08\n",
      "   ----------------- ---------------------- 5.9/13.7 MB 1.1 MB/s eta 0:00:08\n",
      "   ----------------- ---------------------- 6.0/13.7 MB 1.1 MB/s eta 0:00:08\n",
      "   ----------------- ---------------------- 6.0/13.7 MB 1.1 MB/s eta 0:00:08\n",
      "   ----------------- ---------------------- 6.0/13.7 MB 1.1 MB/s eta 0:00:08\n",
      "   ----------------- ---------------------- 6.1/13.7 MB 1.1 MB/s eta 0:00:08\n",
      "   ----------------- ---------------------- 6.1/13.7 MB 1.1 MB/s eta 0:00:08\n",
      "   ----------------- ---------------------- 6.1/13.7 MB 1.1 MB/s eta 0:00:08\n",
      "   ----------------- ---------------------- 6.2/13.7 MB 1.1 MB/s eta 0:00:08\n",
      "   ------------------ --------------------- 6.2/13.7 MB 1.0 MB/s eta 0:00:08\n",
      "   ------------------ --------------------- 6.2/13.7 MB 1.0 MB/s eta 0:00:08\n",
      "   ------------------ --------------------- 6.3/13.7 MB 1.0 MB/s eta 0:00:08\n",
      "   ------------------ --------------------- 6.3/13.7 MB 1.0 MB/s eta 0:00:08\n",
      "   ------------------ --------------------- 6.3/13.7 MB 1.0 MB/s eta 0:00:08\n",
      "   ------------------ --------------------- 6.4/13.7 MB 1.0 MB/s eta 0:00:08\n",
      "   ------------------ --------------------- 6.5/13.7 MB 1.0 MB/s eta 0:00:07\n",
      "   ------------------- -------------------- 6.5/13.7 MB 1.0 MB/s eta 0:00:07\n",
      "   ------------------- -------------------- 6.5/13.7 MB 1.0 MB/s eta 0:00:07\n",
      "   ------------------- -------------------- 6.6/13.7 MB 1.0 MB/s eta 0:00:07\n",
      "   ------------------- -------------------- 6.6/13.7 MB 1.0 MB/s eta 0:00:07\n",
      "   ------------------- -------------------- 6.7/13.7 MB 1.0 MB/s eta 0:00:07\n",
      "   ------------------- -------------------- 6.7/13.7 MB 1.0 MB/s eta 0:00:07\n",
      "   ------------------- -------------------- 6.8/13.7 MB 1.0 MB/s eta 0:00:07\n",
      "   ------------------- -------------------- 6.8/13.7 MB 1.0 MB/s eta 0:00:07\n",
      "   -------------------- ------------------- 6.9/13.7 MB 1.0 MB/s eta 0:00:07\n",
      "   -------------------- ------------------- 6.9/13.7 MB 1.0 MB/s eta 0:00:07\n",
      "   -------------------- ------------------- 7.0/13.7 MB 1.0 MB/s eta 0:00:07\n",
      "   -------------------- ------------------- 7.0/13.7 MB 1.0 MB/s eta 0:00:07\n",
      "   -------------------- ------------------- 7.1/13.7 MB 1.0 MB/s eta 0:00:07\n",
      "   -------------------- ------------------- 7.1/13.7 MB 1.0 MB/s eta 0:00:07\n",
      "   -------------------- ------------------- 7.2/13.7 MB 1.0 MB/s eta 0:00:07\n",
      "   --------------------- ------------------ 7.2/13.7 MB 1.0 MB/s eta 0:00:07\n",
      "   --------------------- ------------------ 7.3/13.7 MB 1.0 MB/s eta 0:00:07\n",
      "   --------------------- ------------------ 7.3/13.7 MB 1.0 MB/s eta 0:00:07\n",
      "   --------------------- ------------------ 7.4/13.7 MB 1.0 MB/s eta 0:00:07\n",
      "   --------------------- ------------------ 7.4/13.7 MB 1.0 MB/s eta 0:00:06\n",
      "   --------------------- ------------------ 7.5/13.7 MB 1.0 MB/s eta 0:00:06\n",
      "   ---------------------- ----------------- 7.5/13.7 MB 1.0 MB/s eta 0:00:06\n",
      "   ---------------------- ----------------- 7.6/13.7 MB 1.0 MB/s eta 0:00:06\n",
      "   ---------------------- ----------------- 7.6/13.7 MB 1.0 MB/s eta 0:00:06\n",
      "   ---------------------- ----------------- 7.7/13.7 MB 1.0 MB/s eta 0:00:06\n",
      "   ---------------------- ----------------- 7.7/13.7 MB 1.0 MB/s eta 0:00:06\n",
      "   ---------------------- ----------------- 7.8/13.7 MB 1.1 MB/s eta 0:00:06\n",
      "   ----------------------- ---------------- 7.9/13.7 MB 1.1 MB/s eta 0:00:06\n",
      "   ----------------------- ---------------- 7.9/13.7 MB 1.1 MB/s eta 0:00:06\n",
      "   ----------------------- ---------------- 8.0/13.7 MB 1.1 MB/s eta 0:00:06\n",
      "   ----------------------- ---------------- 8.0/13.7 MB 1.1 MB/s eta 0:00:06\n",
      "   ----------------------- ---------------- 8.1/13.7 MB 1.1 MB/s eta 0:00:06\n",
      "   ----------------------- ---------------- 8.2/13.7 MB 1.1 MB/s eta 0:00:06\n",
      "   ----------------------- ---------------- 8.2/13.7 MB 1.1 MB/s eta 0:00:06\n",
      "   ------------------------ --------------- 8.3/13.7 MB 1.1 MB/s eta 0:00:06\n",
      "   ------------------------ --------------- 8.3/13.7 MB 1.1 MB/s eta 0:00:06\n",
      "   ------------------------ --------------- 8.3/13.7 MB 1.1 MB/s eta 0:00:06\n",
      "   ------------------------ --------------- 8.4/13.7 MB 1.1 MB/s eta 0:00:06\n",
      "   ------------------------ --------------- 8.4/13.7 MB 1.1 MB/s eta 0:00:05\n",
      "   ------------------------ --------------- 8.5/13.7 MB 1.1 MB/s eta 0:00:05\n",
      "   ------------------------ --------------- 8.6/13.7 MB 1.1 MB/s eta 0:00:05\n",
      "   ------------------------- -------------- 8.6/13.7 MB 1.1 MB/s eta 0:00:05\n",
      "   ------------------------- -------------- 8.6/13.7 MB 1.1 MB/s eta 0:00:05\n",
      "   ------------------------- -------------- 8.7/13.7 MB 1.1 MB/s eta 0:00:05\n",
      "   ------------------------- -------------- 8.7/13.7 MB 1.1 MB/s eta 0:00:05\n",
      "   ------------------------- -------------- 8.8/13.7 MB 1.1 MB/s eta 0:00:05\n",
      "   ------------------------- -------------- 8.8/13.7 MB 1.1 MB/s eta 0:00:05\n",
      "   ------------------------- -------------- 8.9/13.7 MB 1.1 MB/s eta 0:00:05\n",
      "   -------------------------- ------------- 8.9/13.7 MB 1.1 MB/s eta 0:00:05\n",
      "   -------------------------- ------------- 9.0/13.7 MB 1.1 MB/s eta 0:00:05\n",
      "   -------------------------- ------------- 9.0/13.7 MB 1.1 MB/s eta 0:00:05\n",
      "   -------------------------- ------------- 9.1/13.7 MB 1.1 MB/s eta 0:00:05\n",
      "   -------------------------- ------------- 9.1/13.7 MB 1.1 MB/s eta 0:00:05\n",
      "   -------------------------- ------------- 9.2/13.7 MB 1.1 MB/s eta 0:00:05\n",
      "   -------------------------- ------------- 9.2/13.7 MB 1.1 MB/s eta 0:00:05\n",
      "   --------------------------- ------------ 9.3/13.7 MB 1.1 MB/s eta 0:00:05\n",
      "   --------------------------- ------------ 9.3/13.7 MB 1.1 MB/s eta 0:00:05\n",
      "   --------------------------- ------------ 9.4/13.7 MB 1.1 MB/s eta 0:00:05\n",
      "   --------------------------- ------------ 9.5/13.7 MB 1.1 MB/s eta 0:00:04\n",
      "   --------------------------- ------------ 9.5/13.7 MB 1.1 MB/s eta 0:00:04\n",
      "   --------------------------- ------------ 9.6/13.7 MB 1.1 MB/s eta 0:00:04\n",
      "   ---------------------------- ----------- 9.6/13.7 MB 1.1 MB/s eta 0:00:04\n",
      "   ---------------------------- ----------- 9.7/13.7 MB 1.1 MB/s eta 0:00:04\n",
      "   ---------------------------- ----------- 9.7/13.7 MB 1.1 MB/s eta 0:00:04\n",
      "   ---------------------------- ----------- 9.7/13.7 MB 1.1 MB/s eta 0:00:04\n",
      "   ---------------------------- ----------- 9.8/13.7 MB 1.1 MB/s eta 0:00:04\n",
      "   ---------------------------- ----------- 9.9/13.7 MB 1.1 MB/s eta 0:00:04\n",
      "   ----------------------------- ---------- 9.9/13.7 MB 1.1 MB/s eta 0:00:04\n",
      "   ----------------------------- ---------- 10.0/13.7 MB 1.1 MB/s eta 0:00:04\n",
      "   ----------------------------- ---------- 10.0/13.7 MB 1.1 MB/s eta 0:00:04\n",
      "   ----------------------------- ---------- 10.1/13.7 MB 1.1 MB/s eta 0:00:04\n",
      "   ----------------------------- ---------- 10.1/13.7 MB 1.1 MB/s eta 0:00:04\n",
      "   ----------------------------- ---------- 10.2/13.7 MB 1.1 MB/s eta 0:00:04\n",
      "   ----------------------------- ---------- 10.3/13.7 MB 1.1 MB/s eta 0:00:04\n",
      "   ------------------------------ --------- 10.3/13.7 MB 1.1 MB/s eta 0:00:04\n",
      "   ------------------------------ --------- 10.4/13.7 MB 1.1 MB/s eta 0:00:04\n",
      "   ------------------------------ --------- 10.4/13.7 MB 1.1 MB/s eta 0:00:04\n",
      "   ------------------------------ --------- 10.5/13.7 MB 1.1 MB/s eta 0:00:04\n",
      "   ------------------------------ --------- 10.5/13.7 MB 1.1 MB/s eta 0:00:03\n",
      "   ------------------------------ --------- 10.6/13.7 MB 1.1 MB/s eta 0:00:03\n",
      "   ------------------------------- -------- 10.6/13.7 MB 1.1 MB/s eta 0:00:03\n",
      "   ------------------------------- -------- 10.7/13.7 MB 1.1 MB/s eta 0:00:03\n",
      "   ------------------------------- -------- 10.7/13.7 MB 1.1 MB/s eta 0:00:03\n",
      "   ------------------------------- -------- 10.8/13.7 MB 1.1 MB/s eta 0:00:03\n",
      "   ------------------------------- -------- 10.8/13.7 MB 1.1 MB/s eta 0:00:03\n",
      "   ------------------------------- -------- 10.9/13.7 MB 1.1 MB/s eta 0:00:03\n",
      "   ------------------------------- -------- 10.9/13.7 MB 1.1 MB/s eta 0:00:03\n",
      "   -------------------------------- ------- 11.0/13.7 MB 1.1 MB/s eta 0:00:03\n",
      "   -------------------------------- ------- 11.0/13.7 MB 1.1 MB/s eta 0:00:03\n",
      "   -------------------------------- ------- 11.1/13.7 MB 1.1 MB/s eta 0:00:03\n",
      "   -------------------------------- ------- 11.1/13.7 MB 1.1 MB/s eta 0:00:03\n",
      "   -------------------------------- ------- 11.2/13.7 MB 1.1 MB/s eta 0:00:03\n",
      "   -------------------------------- ------- 11.2/13.7 MB 1.1 MB/s eta 0:00:03\n",
      "   --------------------------------- ------ 11.3/13.7 MB 1.1 MB/s eta 0:00:03\n",
      "   --------------------------------- ------ 11.3/13.7 MB 1.1 MB/s eta 0:00:03\n",
      "   --------------------------------- ------ 11.4/13.7 MB 1.1 MB/s eta 0:00:03\n",
      "   --------------------------------- ------ 11.4/13.7 MB 1.1 MB/s eta 0:00:03\n",
      "   --------------------------------- ------ 11.5/13.7 MB 1.1 MB/s eta 0:00:03\n",
      "   --------------------------------- ------ 11.5/13.7 MB 1.1 MB/s eta 0:00:03\n",
      "   --------------------------------- ------ 11.6/13.7 MB 1.1 MB/s eta 0:00:02\n",
      "   --------------------------------- ------ 11.6/13.7 MB 1.1 MB/s eta 0:00:02\n",
      "   ---------------------------------- ----- 11.7/13.7 MB 1.1 MB/s eta 0:00:02\n",
      "   ---------------------------------- ----- 11.7/13.7 MB 1.1 MB/s eta 0:00:02\n",
      "   ---------------------------------- ----- 11.8/13.7 MB 1.1 MB/s eta 0:00:02\n",
      "   ---------------------------------- ----- 11.8/13.7 MB 1.1 MB/s eta 0:00:02\n",
      "   ---------------------------------- ----- 11.9/13.7 MB 1.1 MB/s eta 0:00:02\n",
      "   ---------------------------------- ----- 12.0/13.7 MB 1.1 MB/s eta 0:00:02\n",
      "   ----------------------------------- ---- 12.0/13.7 MB 1.1 MB/s eta 0:00:02\n",
      "   ----------------------------------- ---- 12.1/13.7 MB 1.1 MB/s eta 0:00:02\n",
      "   ----------------------------------- ---- 12.1/13.7 MB 1.1 MB/s eta 0:00:02\n",
      "   ----------------------------------- ---- 12.2/13.7 MB 1.1 MB/s eta 0:00:02\n",
      "   ----------------------------------- ---- 12.2/13.7 MB 1.1 MB/s eta 0:00:02\n",
      "   ----------------------------------- ---- 12.2/13.7 MB 1.1 MB/s eta 0:00:02\n",
      "   ------------------------------------ --- 12.3/13.7 MB 1.1 MB/s eta 0:00:02\n",
      "   ------------------------------------ --- 12.4/13.7 MB 1.1 MB/s eta 0:00:02\n",
      "   ------------------------------------ --- 12.4/13.7 MB 1.1 MB/s eta 0:00:02\n",
      "   ------------------------------------ --- 12.5/13.7 MB 1.1 MB/s eta 0:00:02\n",
      "   ------------------------------------ --- 12.5/13.7 MB 1.1 MB/s eta 0:00:02\n",
      "   ------------------------------------ --- 12.6/13.7 MB 1.1 MB/s eta 0:00:02\n",
      "   ------------------------------------ --- 12.6/13.7 MB 1.1 MB/s eta 0:00:02\n",
      "   ------------------------------------ --- 12.7/13.7 MB 1.1 MB/s eta 0:00:01\n",
      "   ------------------------------------- -- 12.7/13.7 MB 1.1 MB/s eta 0:00:01\n",
      "   ------------------------------------- -- 12.8/13.7 MB 1.1 MB/s eta 0:00:01\n",
      "   ------------------------------------- -- 12.8/13.7 MB 1.1 MB/s eta 0:00:01\n",
      "   ------------------------------------- -- 12.9/13.7 MB 1.1 MB/s eta 0:00:01\n",
      "   ------------------------------------- -- 12.9/13.7 MB 1.1 MB/s eta 0:00:01\n",
      "   ------------------------------------- -- 13.0/13.7 MB 1.1 MB/s eta 0:00:01\n",
      "   -------------------------------------- - 13.1/13.7 MB 1.1 MB/s eta 0:00:01\n",
      "   -------------------------------------- - 13.1/13.7 MB 1.1 MB/s eta 0:00:01\n",
      "   -------------------------------------- - 13.2/13.7 MB 1.1 MB/s eta 0:00:01\n",
      "   -------------------------------------- - 13.2/13.7 MB 1.1 MB/s eta 0:00:01\n",
      "   -------------------------------------- - 13.3/13.7 MB 1.1 MB/s eta 0:00:01\n",
      "   -------------------------------------- - 13.3/13.7 MB 1.1 MB/s eta 0:00:01\n",
      "   ---------------------------------------  13.4/13.7 MB 1.1 MB/s eta 0:00:01\n",
      "   ---------------------------------------  13.4/13.7 MB 1.1 MB/s eta 0:00:01\n",
      "   ---------------------------------------  13.5/13.7 MB 1.1 MB/s eta 0:00:01\n",
      "   ---------------------------------------  13.5/13.7 MB 1.1 MB/s eta 0:00:01\n",
      "   ---------------------------------------  13.6/13.7 MB 1.1 MB/s eta 0:00:01\n",
      "   ---------------------------------------  13.6/13.7 MB 1.1 MB/s eta 0:00:01\n",
      "   ---------------------------------------  13.7/13.7 MB 1.1 MB/s eta 0:00:01\n",
      "   ---------------------------------------  13.7/13.7 MB 1.1 MB/s eta 0:00:01\n",
      "   ---------------------------------------- 13.7/13.7 MB 1.1 MB/s eta 0:00:00\n",
      "Installing collected packages: faiss-cpu\n",
      "Successfully installed faiss-cpu-1.10.0\n"
     ]
    },
    {
     "name": "stderr",
     "output_type": "stream",
     "text": [
      "\n",
      "[notice] A new release of pip is available: 24.0 -> 25.0.1\n",
      "[notice] To update, run: python.exe -m pip install --upgrade pip\n"
     ]
    }
   ],
   "source": [
    "# 외장하드를 사용해서 설치된 환경과 실행 환경이 달라 설정을 해줘야함\n",
    "import sys\n",
    "!{sys.executable} -m pip install python-dotenv \n",
    "\n",
    "!{sys.executable} -m pip install langchain\n",
    "!{sys.executable} -m pip install langchain-community\n",
    "!{sys.executable} -m pip install langchain-openai\n",
    "!{sys.executable} -m pip install faiss-cpu"
   ]
  },
  {
   "cell_type": "code",
   "execution_count": 22,
   "metadata": {},
   "outputs": [
    {
     "data": {
      "text/plain": [
       "True"
      ]
     },
     "execution_count": 22,
     "metadata": {},
     "output_type": "execute_result"
    }
   ],
   "source": [
    "from dotenv import load_dotenv\n",
    "\n",
    "load_dotenv()"
   ]
  },
  {
   "cell_type": "code",
   "execution_count": 38,
   "metadata": {},
   "outputs": [],
   "source": [
    "import os\n",
    "os.environ[\"LANGCHAIN_PROJECT\"] = \"RAG TUTORIAL\"\n",
    "openapi_key = os.getenv(\"OPEN_API_KEY\")"
   ]
  },
  {
   "cell_type": "code",
   "execution_count": 34,
   "metadata": {},
   "outputs": [],
   "source": [
    "import bs4\n",
    "from langchain import hub\n",
    "from langchain.text_splitter import RecursiveCharacterTextSplitter\n",
    "from langchain_community.document_loaders import WebBaseLoader\n",
    "from langchain_community.vectorstores import FAISS\n",
    "from langchain_core.output_parsers import StrOutputParser\n",
    "from langchain_core.runnables import RunnablePassthrough\n",
    "from langchain_openai import ChatOpenAI, OpenAIEmbeddings"
   ]
  },
  {
   "cell_type": "code",
   "execution_count": 27,
   "metadata": {},
   "outputs": [
    {
     "name": "stdout",
     "output_type": "stream",
     "text": [
      "문서의 수 : 1\n"
     ]
    },
    {
     "data": {
      "text/plain": [
       "[Document(metadata={'source': 'https://n.news.naver.com/mnews/article/001/0015266317'}, page_content='\\n\\n\\n\\n\\n\\n김희철 네이버 CFO 내정자[네이버 제공. 재판매 및 DB 금지](서울=연합뉴스) 김현수 기자 = 이해진 창업자 복귀를 앞둔 네이버가 주요 임원 인사를 통한 조직 정비에 나섰다.    네이버는 14일 김희철 네이버 CV센터장을 신임 최고재무책임자(CFO)에 내정했다고 밝혔다.    이달 임기가 만료되는 김남선 CFO는 네이버 전략 투자 대표를 맡을 예정이다.    김남선 신임 전략 투자 대표는 2023년 인수한 북미 중고거래 플랫폼 기업 포시마크 이사회 집행 의장으로서 경영 강화 및 네이버와의 시너지 확대에 주력할 계획이라고 네이버는 전했다.    사우디아라비아 등 글로벌 전략 사업을 위한 전략사업부문도 신설한다.    채선주 대외·ESG 정책 대표가 해당 부문과 네이버 아라비아 법인을 함께 담당한다.    오는 26일 네이버 주주총회에서 이해진 글로벌투자책임자(GIO)의 이사회 복귀와 최수연 대표의 연임 안건을 의결하는 네이버가 검증된 인사를 기용하며 신사업 추진을 위한 발판 마련에 나서는 모습이다.    김남선 CFO는 포시마크 인수와 AI 인프라 투자 과정에서 회사 자금을 성공적으로 책임졌다는 평가를 받으며, 채 대표는 디지털트윈 등 네이버의 사우디아라비아 협력 사업을 초기부터 담당해온 전문가다.    네이버는 김희철 CFO 내정자에 대해 \"전사 효율적 자원 배분, 손익 관리, 회계 컨트롤타워 기능 강화의 측면에서 높은 성과를 보이는 등 재무 관리 능력을 인정받고 있다\"고 설명했다.    이번 인사는 이해진 창업자 복귀에 맞춰 네이버가 글로벌 사업 강화를 위한 조직 개편에 본격적으로 나선 것으로 풀이된다.    지난해 매출 10조원을 넘은 네이버가 글로벌 AI 시장에서는 아직 이렇다 할 성과를 보여주지 못하는 가운데 경쟁에서 뒤처질 수 있다는 절박함이 이 창업자의 복귀에 영향을 끼쳤다는 분석도 나온다.    업계 관계자는 \"이해진 창업자는 네이버 투자 부문에서 일하며 사업 방향성을 잘 알고 있다\"며 \"최수연 대표와의 시너지를 통해 AI 분야에서 성과를 낼 수 있을지 기대된다\"고 전했다.    hyunsu@yna.co.kr\\n\\n')]"
      ]
     },
     "execution_count": 27,
     "metadata": {},
     "output_type": "execute_result"
    }
   ],
   "source": [
    "loader = WebBaseLoader(\n",
    "    web_path=(\"https://n.news.naver.com/mnews/article/001/0015266317\"),\n",
    "    bs_kwargs=dict(\n",
    "        parse_only=bs4.SoupStrainer(\n",
    "            \"div\",\n",
    "            attrs={\"class\": [\"newsct_article _article_body\", \"media_end_head_headline\"]}\n",
    "        )\n",
    "    )\n",
    ")\n",
    "docs = loader.load()\n",
    "print(f\"문서의 수 : {len(docs)}\")\n",
    "docs"
   ]
  },
  {
   "cell_type": "code",
   "execution_count": 31,
   "metadata": {},
   "outputs": [
    {
     "data": {
      "text/plain": [
       "2"
      ]
     },
     "execution_count": 31,
     "metadata": {},
     "output_type": "execute_result"
    }
   ],
   "source": [
    "text_splitter = RecursiveCharacterTextSplitter(\n",
    "    chunk_size=1000, chunk_overlap=50) # 1000 글자 단위로 쪼개는데(size) 50글자는 겹치게 가져와라라(overlap)\n",
    "\n",
    "splits = text_splitter.split_documents(docs)\n",
    "len(splits)"
   ]
  },
  {
   "cell_type": "code",
   "execution_count": 51,
   "metadata": {},
   "outputs": [],
   "source": [
    "# 벡터스토어 생성\n",
    "vectorstore = FAISS.from_documents( # FAISS 벡터 DB, 밑에서 임베딩 된 좌표 값을 저장하는 목적\n",
    "    documents=splits, embedding=OpenAIEmbeddings(openai_api_key=openapi_key))# OpenAIEmbedding은 1536차원의 공간에 임베딩 값을 좌표로 만들어준다. \n",
    "\n",
    "# 해당 문서에 포함되어 있는 정보를 검색하고 생성\n",
    "retriver = vectorstore.as_retriever()"
   ]
  },
  {
   "cell_type": "code",
   "execution_count": 54,
   "metadata": {},
   "outputs": [
    {
     "name": "stderr",
     "output_type": "stream",
     "text": [
      "c:\\Users\\rladn\\AppData\\Local\\Programs\\Python\\Python311\\Lib\\site-packages\\langsmith\\client.py:253: LangSmithMissingAPIKeyWarning: API key must be provided when using hosted LangSmith API\n",
      "  warnings.warn(\n"
     ]
    },
    {
     "data": {
      "text/plain": [
       "ChatPromptTemplate(input_variables=['context', 'question'], input_types={}, partial_variables={}, metadata={'lc_hub_owner': 'rlm', 'lc_hub_repo': 'rag-prompt', 'lc_hub_commit_hash': '50442af133e61576e74536c6556cefe1fac147cad032f4377b60c436e6cdcb6e'}, messages=[HumanMessagePromptTemplate(prompt=PromptTemplate(input_variables=['context', 'question'], input_types={}, partial_variables={}, template=\"You are an assistant for question-answering tasks. Use the following pieces of retrieved context to answer the question. If you don't know the answer, just say that you don't know. Use three sentences maximum and keep the answer concise.\\nQuestion: {question} \\nContext: {context} \\nAnswer:\"), additional_kwargs={})])"
      ]
     },
     "execution_count": 54,
     "metadata": {},
     "output_type": "execute_result"
    }
   ],
   "source": [
    "prompt = hub.pull(\"rlm/rag-prompt\") # 이때 hub는 langchain의 hub, langsmith hub에서 가져와서 사용\n",
    "prompt"
   ]
  },
  {
   "cell_type": "code",
   "execution_count": 58,
   "metadata": {},
   "outputs": [],
   "source": [
    "llm = ChatOpenAI(model_name=\"gpt-3.5-turbo\", temperature=0, openai_api_key=openapi_key)\n",
    "\n",
    "# 검색한 문서 결과를 하나로 합쳐줌줌\n",
    "def format_docs(docs):\n",
    "    return \"\\n\\n\".join(doc.page_content for doc in docs)\n",
    "\n",
    "rag_chain = (\n",
    "    {\"context\": retriver | format_docs, \"question\": RunnablePassthrough()}\n",
    "    | prompt\n",
    "    | llm\n",
    "    |StrOutputParser()\n",
    ")"
   ]
  },
  {
   "cell_type": "markdown",
   "metadata": {},
   "source": [
    "Langsmith Trace 보기"
   ]
  },
  {
   "cell_type": "code",
   "execution_count": 59,
   "metadata": {},
   "outputs": [
    {
     "data": {
      "text/plain": [
       "'김희철입니다.'"
      ]
     },
     "execution_count": 59,
     "metadata": {},
     "output_type": "execute_result"
    }
   ],
   "source": [
    "rag_chain.invoke(\"네이버 CV 센터장은 누구입니까?\")"
   ]
  },
  {
   "cell_type": "code",
   "execution_count": 60,
   "metadata": {},
   "outputs": [
    {
     "data": {
      "text/plain": [
       "'네이버는 김희철을 CFO로 내정하여 CV 센터장을 바꾸었습니다. 김남선은 전략 투자 대표로 임명될 예정이며, 이해진 창업자의 복귀와 글로벌 사업 강화를 위한 조직 개편에 맞춰 이러한 결정이 이루어졌습니다.'"
      ]
     },
     "execution_count": 60,
     "metadata": {},
     "output_type": "execute_result"
    }
   ],
   "source": [
    "rag_chain.invoke(\"네이버는 왜 CV 센터장을 바꾸나요?\")"
   ]
  },
  {
   "cell_type": "code",
   "execution_count": 61,
   "metadata": {},
   "outputs": [
    {
     "data": {
      "text/plain": [
       "'저는 그 질문에 대한 답을 알지 못합니다.'"
      ]
     },
     "execution_count": 61,
     "metadata": {},
     "output_type": "execute_result"
    }
   ],
   "source": [
    "rag_chain.invoke(\"네이버 임직원은 총 몇명입니까?\")"
   ]
  },
  {
   "cell_type": "code",
   "execution_count": null,
   "metadata": {},
   "outputs": [],
   "source": []
  }
 ],
 "metadata": {
  "kernelspec": {
   "display_name": "Python 3",
   "language": "python",
   "name": "python3"
  },
  "language_info": {
   "codemirror_mode": {
    "name": "ipython",
    "version": 3
   },
   "file_extension": ".py",
   "mimetype": "text/x-python",
   "name": "python",
   "nbconvert_exporter": "python",
   "pygments_lexer": "ipython3",
   "version": "3.11.9"
  }
 },
 "nbformat": 4,
 "nbformat_minor": 2
}
